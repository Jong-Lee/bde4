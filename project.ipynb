{
 "cells": [
  {
   "cell_type": "code",
   "execution_count": 5,
   "metadata": {},
   "outputs": [
    {
     "ename": "SyntaxError",
     "evalue": "EOF while scanning triple-quoted string literal (<ipython-input-5-e5d36174b720>, line 95)",
     "output_type": "error",
     "traceback": [
      "\u001b[0;36m  File \u001b[0;32m\"<ipython-input-5-e5d36174b720>\"\u001b[0;36m, line \u001b[0;32m95\u001b[0m\n\u001b[0;31m    \"\u001b[0m\n\u001b[0m     \n^\u001b[0m\n\u001b[0;31mSyntaxError\u001b[0m\u001b[0;31m:\u001b[0m EOF while scanning triple-quoted string literal\n"
     ]
    }
   ],
   "source": [
    "# user.py\n",
    "collection = db.users\n",
    "\n",
    "def signup(db):\n",
    "    '''\n",
    "    1. Get his/her information.\n",
    "    2. Check if his/her password equals confirm password.\n",
    "    3. Check if the userid already exists.\n",
    "    4. Make the user document.\n",
    "    5. Insert the document into users collection.\n",
    "    '''\n",
    "    #making docs to check that there already exists ID and password \n",
    "    docs = {}\n",
    "    while True:\n",
    "        print('Put your ID :', end=' ')\n",
    "        ID = input()\n",
    "        if collection.find_one({\"user_id\" : ID}):\n",
    "            print('There already exists the ID')\n",
    "        else:\n",
    "            print('Set your password :', end=' ')\n",
    "            password1 = input()\n",
    "            print('Check your password :', end=' ')\n",
    "            password2 = input()\n",
    "            if password1 == password2:\n",
    "                print('What is your name? :', end=' ')\n",
    "                docs['user_id'] = ID\n",
    "                docs['password'] = password1\n",
    "                \n",
    "                name = input()\n",
    "                \n",
    "                collection.insert(docs)\n",
    "                break\n",
    "            else:\n",
    "                print('Try again! Not correct password.')\n",
    "    \n",
    "def signin(db):\n",
    "    '''\n",
    "    1. Get his/her information.\n",
    "    2. Find him/her in users collection.\n",
    "    3. If exists, print welcome message and call userpage()\n",
    "    '''\n",
    "    while True:\n",
    "        print('Insert your ID :',end=' ')\n",
    "        getID = input()\n",
    "        if collection.find_one({'user_id':getID}):\n",
    "            print('Insert your password :',end=' ')\n",
    "            getPW = input()\n",
    "            if collection.find_one({'user_id':getID},{'password':getPW}):\n",
    "                pass\n",
    "                print('Welcome to the LSJK')\n",
    "                userpage(db, getID)\n",
    "                break\n",
    "            else:\n",
    "                print('Wrong password. Try again.')\n",
    "        else:\n",
    "            print('There is no ID.')\n",
    "\n",
    "def mystatus(db, user):\n",
    "    '''\n",
    "    print user profile, # followers, and # followings\n",
    "    '''\n",
    "\n",
    "    \n",
    "def userpage(db, user):\n",
    "    '''\n",
    "    user page\n",
    "    see the posts\n",
    "    '''\n",
    "    pass\n",
    "\n",
    "def postInterface(db, user):\n",
    "    \"\"\"\n",
    "    Implementing the interface to post your text.\n",
    "    There are three or more items to choose functions such as inserting and deleting a text.\n",
    "    \"\"\"\n",
    "\n",
    "def insertPost(db, userid, username):\n",
    "    \"\"\"\n",
    "    Insert user's text. You should create the post schema including,\n",
    "    for example, posting date, posting id or name, and comments.\n",
    "    \n",
    "    You should consider how to delete the text.\n",
    "    \"\"\"\n",
    "\t\n",
    "\n",
    "def deletePost(db):\n",
    "    \"\"\"\n",
    "    Delete user's text.\n",
    "    With the post schema, you can remove posts by some conditions that you specify.\n",
    "    \"\"\"\n",
    "\n",
    "    \"\"\"\n",
    "    Sometimes, users make a mistake to insert or delete their text.\n",
    "    We recommend that you write the double-checking code to avoid the mistakes.\n",
    "    \""
   ]
  },
  {
   "cell_type": "code",
   "execution_count": 4,
   "metadata": {},
   "outputs": [
    {
     "name": "stdout",
     "output_type": "stream",
     "text": [
      "0. sign up\n",
      "1. sign in\n",
      "2. exit\n",
      "2\n"
     ]
    }
   ],
   "source": [
    "# main.py\n",
    "from pymongo import MongoClient\n",
    "#import user\n",
    "\n",
    "client = MongoClient()\n",
    "db = client.LJSK\n",
    "#collection = db.users\n",
    "\n",
    "def mainpage(db):\n",
    "    '''\n",
    "    call signup() or signin()\n",
    "    '''\n",
    "\n",
    "    while(True):\n",
    "        print('0. sign up')\n",
    "        print('1. sign in')\n",
    "        print('2. exit')\n",
    "    \n",
    "        num = input()\n",
    "        try:\n",
    "            num = int(num)\n",
    "        except ValueError:\n",
    "            pass\n",
    "        if num == 0:\n",
    "            signup(db)\n",
    "        elif num == 1:\n",
    "            signin(db)\n",
    "        elif num == 2:\n",
    "            break\n",
    "        else:\n",
    "            print('wrong input')\n",
    "\n",
    "if __name__ == \"__main__\":\n",
    "    '''\n",
    "    call mainpage()\n",
    "    '''\n",
    "    mainpage(db)\n",
    " "
   ]
  },
  {
   "cell_type": "code",
   "execution_count": 8,
   "metadata": {},
   "outputs": [
    {
     "ename": "NameError",
     "evalue": "name 'collection' is not defined",
     "output_type": "error",
     "traceback": [
      "\u001b[0;31m---------------------------------------------------------------------------\u001b[0m",
      "\u001b[0;31mNameError\u001b[0m                                 Traceback (most recent call last)",
      "\u001b[0;32m<ipython-input-8-0e39a28e51b2>\u001b[0m in \u001b[0;36m<module>\u001b[0;34m()\u001b[0m\n\u001b[0;32m----> 1\u001b[0;31m \u001b[0mprint\u001b[0m\u001b[0;34m(\u001b[0m\u001b[0mcollection\u001b[0m\u001b[0;34m.\u001b[0m\u001b[0mfind_one\u001b[0m\u001b[0;34m(\u001b[0m\u001b[0;34m{\u001b[0m\u001b[0;34m'user_id'\u001b[0m\u001b[0;34m:\u001b[0m\u001b[0;34m'jin'\u001b[0m\u001b[0;34m}\u001b[0m\u001b[0;34m)\u001b[0m\u001b[0;34m)\u001b[0m\u001b[0;34m\u001b[0m\u001b[0m\n\u001b[0m",
      "\u001b[0;31mNameError\u001b[0m: name 'collection' is not defined"
     ]
    }
   ],
   "source": [
    "print(collection.find_one({'user_id':'jin'}))"
   ]
  },
  {
   "cell_type": "code",
   "execution_count": null,
   "metadata": {
    "collapsed": true
   },
   "outputs": [],
   "source": []
  }
 ],
 "metadata": {
  "kernelspec": {
   "display_name": "Python 3",
   "language": "python",
   "name": "python3"
  },
  "language_info": {
   "codemirror_mode": {
    "name": "ipython",
    "version": 3
   },
   "file_extension": ".py",
   "mimetype": "text/x-python",
   "name": "python",
   "nbconvert_exporter": "python",
   "pygments_lexer": "ipython3",
   "version": "3.6.1"
  }
 },
 "nbformat": 4,
 "nbformat_minor": 2
}
dd
